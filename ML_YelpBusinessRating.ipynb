{
 "cells": [
  {
   "cell_type": "code",
   "execution_count": 8,
   "metadata": {
    "collapsed": false,
    "deletable": true,
    "editable": true
   },
   "outputs": [],
   "source": [
    "%matplotlib inline\n",
    "import matplotlib\n",
    "import seaborn as sns\n",
    "matplotlib.rcParams['savefig.dpi'] = 144\n",
    "import pandas as pd"
   ]
  },
  {
   "cell_type": "markdown",
   "metadata": {
    "deletable": true,
    "editable": true
   },
   "source": [
    "# ML: Predicting Star Ratings\n",
    "\n",
    "Our objective is to predict a new venue's popularity from information available when the venue opens.  We will do this by machine learning from a dataset of venue popularities provided by Yelp.  The dataset contains meta data about the venue (where it is located, the type of food served, etc.).  It also contains a star rating. Note that the venues are not limited to restaurants. \n",
    "\n",
    "\n",
    "## Download and parse the incoming data\n",
    "\n",
    "We start by downloading the dataset from Amazon S3:"
   ]
  },
  {
   "cell_type": "code",
   "execution_count": 9,
   "metadata": {
    "collapsed": false,
    "deletable": true,
    "editable": true
   },
   "outputs": [],
   "source": [
    "!aws s3 sync s3://dataincubator-course/mldata/ . --exclude '*' --include 'yelp_train_academic_dataset_business.json.gz'"
   ]
  },
  {
   "cell_type": "markdown",
   "metadata": {
    "deletable": true,
    "editable": true
   },
   "source": [
    "The training data are a series of JSON objects, in a gzipped file. Python supports gzipped files natively: [gzip.open](https://docs.python.org/2/library/gzip.html) has the same interface as `open`, but handles `.gz` files automatically."
   ]
  },
  {
   "cell_type": "code",
   "execution_count": 10,
   "metadata": {
    "collapsed": false,
    "deletable": true,
    "editable": true
   },
   "outputs": [],
   "source": [
    "import ujson as json\n",
    "import gzip\n",
    "\n",
    "with gzip.open('yelp_train_academic_dataset_business.json.gz') as f:\n",
    "    data = [json.loads(line) for line in f]"
   ]
  },
  {
   "cell_type": "code",
   "execution_count": 11,
   "metadata": {
    "collapsed": false,
    "deletable": true,
    "editable": true
   },
   "outputs": [
    {
     "data": {
      "text/html": [
       "<div>\n",
       "<style>\n",
       "    .dataframe thead tr:only-child th {\n",
       "        text-align: right;\n",
       "    }\n",
       "\n",
       "    .dataframe thead th {\n",
       "        text-align: left;\n",
       "    }\n",
       "\n",
       "    .dataframe tbody tr th {\n",
       "        vertical-align: top;\n",
       "    }\n",
       "</style>\n",
       "<table border=\"1\" class=\"dataframe\">\n",
       "  <thead>\n",
       "    <tr style=\"text-align: right;\">\n",
       "      <th></th>\n",
       "      <th>attributes</th>\n",
       "      <th>business_id</th>\n",
       "      <th>categories</th>\n",
       "      <th>city</th>\n",
       "      <th>full_address</th>\n",
       "      <th>hours</th>\n",
       "      <th>latitude</th>\n",
       "      <th>longitude</th>\n",
       "      <th>name</th>\n",
       "      <th>neighborhoods</th>\n",
       "      <th>open</th>\n",
       "      <th>review_count</th>\n",
       "      <th>stars</th>\n",
       "      <th>state</th>\n",
       "      <th>type</th>\n",
       "    </tr>\n",
       "  </thead>\n",
       "  <tbody>\n",
       "    <tr>\n",
       "      <th>0</th>\n",
       "      <td>{u'By Appointment Only': True}</td>\n",
       "      <td>vcNAWiLM4dR7D2nwwJ7nCA</td>\n",
       "      <td>[Doctors, Health &amp; Medical]</td>\n",
       "      <td>Phoenix</td>\n",
       "      <td>4840 E Indian School Rd\\nSte 101\\nPhoenix, AZ ...</td>\n",
       "      <td>{u'Thursday': {u'close': u'17:00', u'open': u'...</td>\n",
       "      <td>33.499313</td>\n",
       "      <td>-111.983758</td>\n",
       "      <td>Eric Goldberg, MD</td>\n",
       "      <td>[]</td>\n",
       "      <td>True</td>\n",
       "      <td>7</td>\n",
       "      <td>3.5</td>\n",
       "      <td>AZ</td>\n",
       "      <td>business</td>\n",
       "    </tr>\n",
       "    <tr>\n",
       "      <th>1</th>\n",
       "      <td>{u'Take-out': True, u'Price Range': 1, u'Outdo...</td>\n",
       "      <td>JwUE5GmEO-sH1FuwJgKBlQ</td>\n",
       "      <td>[Restaurants]</td>\n",
       "      <td>De Forest</td>\n",
       "      <td>6162 US Highway 51\\nDe Forest, WI 53532</td>\n",
       "      <td>{}</td>\n",
       "      <td>43.238893</td>\n",
       "      <td>-89.335844</td>\n",
       "      <td>Pine Cone Restaurant</td>\n",
       "      <td>[]</td>\n",
       "      <td>True</td>\n",
       "      <td>26</td>\n",
       "      <td>4.0</td>\n",
       "      <td>WI</td>\n",
       "      <td>business</td>\n",
       "    </tr>\n",
       "    <tr>\n",
       "      <th>2</th>\n",
       "      <td>{u'Take-out': True, u'Outdoor Seating': False,...</td>\n",
       "      <td>uGykseHzyS5xAMWoN6YUqA</td>\n",
       "      <td>[American (Traditional), Restaurants]</td>\n",
       "      <td>De Forest</td>\n",
       "      <td>505 W North St\\nDe Forest, WI 53532</td>\n",
       "      <td>{u'Monday': {u'close': u'22:00', u'open': u'06...</td>\n",
       "      <td>43.252267</td>\n",
       "      <td>-89.353437</td>\n",
       "      <td>Deforest Family Restaurant</td>\n",
       "      <td>[]</td>\n",
       "      <td>True</td>\n",
       "      <td>16</td>\n",
       "      <td>4.0</td>\n",
       "      <td>WI</td>\n",
       "      <td>business</td>\n",
       "    </tr>\n",
       "    <tr>\n",
       "      <th>3</th>\n",
       "      <td>{u'Take-out': True, u'Accepts Credit Cards': T...</td>\n",
       "      <td>LRKJF43s9-3jG9Lgx4zODg</td>\n",
       "      <td>[Food, Ice Cream &amp; Frozen Yogurt, Fast Food, R...</td>\n",
       "      <td>De Forest</td>\n",
       "      <td>4910 County Rd V\\nDe Forest, WI 53532</td>\n",
       "      <td>{u'Monday': {u'close': u'22:00', u'open': u'10...</td>\n",
       "      <td>43.251045</td>\n",
       "      <td>-89.374983</td>\n",
       "      <td>Culver's</td>\n",
       "      <td>[]</td>\n",
       "      <td>True</td>\n",
       "      <td>7</td>\n",
       "      <td>4.5</td>\n",
       "      <td>WI</td>\n",
       "      <td>business</td>\n",
       "    </tr>\n",
       "    <tr>\n",
       "      <th>4</th>\n",
       "      <td>{u'Take-out': True, u'Has TV': False, u'Outdoo...</td>\n",
       "      <td>RgDg-k9S5YD_BaxMckifkg</td>\n",
       "      <td>[Chinese, Restaurants]</td>\n",
       "      <td>De Forest</td>\n",
       "      <td>631 S Main St\\nDe Forest, WI 53532</td>\n",
       "      <td>{u'Monday': {u'close': u'22:00', u'open': u'11...</td>\n",
       "      <td>43.240875</td>\n",
       "      <td>-89.343722</td>\n",
       "      <td>Chang Jiang Chinese Kitchen</td>\n",
       "      <td>[]</td>\n",
       "      <td>True</td>\n",
       "      <td>3</td>\n",
       "      <td>4.0</td>\n",
       "      <td>WI</td>\n",
       "      <td>business</td>\n",
       "    </tr>\n",
       "  </tbody>\n",
       "</table>\n",
       "</div>"
      ],
      "text/plain": [
       "                                          attributes             business_id  \\\n",
       "0                     {u'By Appointment Only': True}  vcNAWiLM4dR7D2nwwJ7nCA   \n",
       "1  {u'Take-out': True, u'Price Range': 1, u'Outdo...  JwUE5GmEO-sH1FuwJgKBlQ   \n",
       "2  {u'Take-out': True, u'Outdoor Seating': False,...  uGykseHzyS5xAMWoN6YUqA   \n",
       "3  {u'Take-out': True, u'Accepts Credit Cards': T...  LRKJF43s9-3jG9Lgx4zODg   \n",
       "4  {u'Take-out': True, u'Has TV': False, u'Outdoo...  RgDg-k9S5YD_BaxMckifkg   \n",
       "\n",
       "                                          categories       city  \\\n",
       "0                        [Doctors, Health & Medical]    Phoenix   \n",
       "1                                      [Restaurants]  De Forest   \n",
       "2              [American (Traditional), Restaurants]  De Forest   \n",
       "3  [Food, Ice Cream & Frozen Yogurt, Fast Food, R...  De Forest   \n",
       "4                             [Chinese, Restaurants]  De Forest   \n",
       "\n",
       "                                        full_address  \\\n",
       "0  4840 E Indian School Rd\\nSte 101\\nPhoenix, AZ ...   \n",
       "1            6162 US Highway 51\\nDe Forest, WI 53532   \n",
       "2                505 W North St\\nDe Forest, WI 53532   \n",
       "3              4910 County Rd V\\nDe Forest, WI 53532   \n",
       "4                 631 S Main St\\nDe Forest, WI 53532   \n",
       "\n",
       "                                               hours   latitude   longitude  \\\n",
       "0  {u'Thursday': {u'close': u'17:00', u'open': u'...  33.499313 -111.983758   \n",
       "1                                                 {}  43.238893  -89.335844   \n",
       "2  {u'Monday': {u'close': u'22:00', u'open': u'06...  43.252267  -89.353437   \n",
       "3  {u'Monday': {u'close': u'22:00', u'open': u'10...  43.251045  -89.374983   \n",
       "4  {u'Monday': {u'close': u'22:00', u'open': u'11...  43.240875  -89.343722   \n",
       "\n",
       "                          name neighborhoods  open  review_count  stars state  \\\n",
       "0            Eric Goldberg, MD            []  True             7    3.5    AZ   \n",
       "1         Pine Cone Restaurant            []  True            26    4.0    WI   \n",
       "2   Deforest Family Restaurant            []  True            16    4.0    WI   \n",
       "3                     Culver's            []  True             7    4.5    WI   \n",
       "4  Chang Jiang Chinese Kitchen            []  True             3    4.0    WI   \n",
       "\n",
       "       type  \n",
       "0  business  \n",
       "1  business  \n",
       "2  business  \n",
       "3  business  \n",
       "4  business  "
      ]
     },
     "execution_count": 11,
     "metadata": {},
     "output_type": "execute_result"
    }
   ],
   "source": [
    "df = pd.DataFrame(data)  \n",
    "df.head()"
   ]
  },
  {
   "cell_type": "code",
   "execution_count": 12,
   "metadata": {
    "collapsed": true,
    "deletable": true,
    "editable": true
   },
   "outputs": [],
   "source": [
    "star_ratings = [row['stars'] for row in data]"
   ]
  },
  {
   "cell_type": "markdown",
   "metadata": {},
   "source": [
    "## Building models"
   ]
  },
  {
   "cell_type": "markdown",
   "metadata": {
    "deletable": true,
    "editable": true
   },
   "source": [
    "## city_avg_model\n",
    "The venues belong to different cities. Ratings in some cities are probably higher than others. We wish to build an estimator to make a prediction based on this, but first we need to work out the average rating for each city.\n"
   ]
  },
  {
   "cell_type": "code",
   "execution_count": 5,
   "metadata": {
    "collapsed": false,
    "deletable": true,
    "editable": true
   },
   "outputs": [],
   "source": [
    "from collections import defaultdict\n",
    "star_sum = defaultdict(int)\n",
    "count = defaultdict(int)"
   ]
  },
  {
   "cell_type": "code",
   "execution_count": 13,
   "metadata": {
    "collapsed": false,
    "deletable": true,
    "editable": true
   },
   "outputs": [],
   "source": [
    "for row, stars in zip(data, star_ratings):\n",
    "    star_sum[row['city']] = star_sum[row['city']] + stars\n",
    "    count[row['city']] = count[row['city']] + 1\n",
    "    # increment the running sum in star_sum\n",
    "    # increment the running count in count"
   ]
  },
  {
   "cell_type": "code",
   "execution_count": 14,
   "metadata": {
    "collapsed": false,
    "deletable": true,
    "editable": true
   },
   "outputs": [],
   "source": [
    "# calculate average star rating and store in avg_stars\n",
    "avg_stars = dict()\n",
    "for city in star_sum:\n",
    "    avg_stars[city] = float(star_sum[city])/float(count[city])"
   ]
  },
  {
   "cell_type": "markdown",
   "metadata": {
    "deletable": true,
    "editable": true
   },
   "source": [
    "There should be 167 different cities:"
   ]
  },
  {
   "cell_type": "code",
   "execution_count": 16,
   "metadata": {
    "collapsed": true,
    "deletable": true,
    "editable": true
   },
   "outputs": [],
   "source": [
    "assert len(avg_stars) == 167"
   ]
  },
  {
   "cell_type": "code",
   "execution_count": 17,
   "metadata": {
    "collapsed": false
   },
   "outputs": [
    {
     "name": "stdout",
     "output_type": "stream",
     "text": [
      "{u'Victoria Park': 4.5, u'Anthem': 3.7818181818181817, u'Apache Junction': 3.6375, u'Morristown': 3.5, u'North Queensferry': 3.5, u'Paradise': 3.46875, u'Surprise': 3.5758426966292136, u'Henderson': 3.6879310344827587, u'Higley': 3.5, u'Rio Verde': 4.0, u'N. Las Vegas': 3.25, u'Verona': 3.8548387096774195, u'Musselburgh': 3.55, u'Central Henderson': 3.5, u'Fort Mcdowell': 4.0, u'Scottsdale': 3.8206757594544327, u'Sun Lakes': 3.2222222222222223, u'Whitney': 4.5, u'Dane': 4.25, u'Atlanta': 3.5, u'Fort Kinnaird': 4.5, u'NELLIS AFB': 4.5, u'Waterloo': 3.6054421768707483, u'South Gyle': 2.5, u'South Las Vegas': 4.5, u'Summerlin South': 3.25, u'DeForest': 4.1, u'Clark County': 3.0, u'Gold Canyon': 3.5, u'Newberry Springs': 3.5, u'Kitchener': 3.6982758620689653, u'Nellis AFB': 4.222222222222222, u'Litchfield Park': 3.7, u'Tolleson': 3.2291666666666665, u'Woolwich': 4.25, u'St Jacobs': 3.5, u'London': 3.0, u'Queensferry': 3.8333333333333335, u'Inverkeithing': 3.0, u'St Clements': 4.5, u'Sunrise': 3.0, u'Trempealeau': 4.0, u'Gila Bend': 3.375, u'Rochester': 5.0, u'Maricopa': 3.52, u'Tonto Basin': 3.8333333333333335, u'Goldfield': 3.5, u'Old Town': 4.0, u'Loanhead': 3.8, u'Eagan': 5.0, u'Midlothian': 4.5, u'Goodyear': 3.5313653136531364, u'Sedona': 3.5, u'Edinburgh': 3.7963391136801543, u'Peoria': 3.6388367729831144, u'North Scottsdale': 4.0, u'Central City Village': 3.125, u'Sun City Anthem': 3.0, u'Avondale': 3.53862660944206, u'Mc Farland': 3.1, u'W Summerlin': 3.5, u'Arcadia': 5.0, u'Ahwatukee': 3.6875, u'C Las Vegas': 3.0, u'Bonnyrigg': 3.75, u'Cottage Grove': 3.2222222222222223, u'Casa Grande': 3.5172413793103448, u'Surprise Crossing': 4.5, u'Centennial Hills': 3.0, u'City of Edinburgh': 3.0, u'W Henderson': 3.5, u'Fitchburg': 3.4634146341463414, u'Boulder City': 4.136363636363637, u'Black Canyon City': 3.0, u'Penicuik': 4.0, u'Las Vegas East': 4.5, u'Newington': 3.0, u'Madison': 3.6457337883959045, u'Cambridge': 4.2, u'Lake Las Vegas': 4.5, u'Litchfield Park ': 4.5, u'Windsor': 3.5, u'Cramond': 4.25, u'Las Vegas': 3.651368537461985, u'Lasswade': 3.3333333333333335, u'Wickenburg': 3.6555555555555554, u'Green Valley': 4.0, u'El Mirage': 3.7, u'Portobello': 3.75, u'Phoenix ': 1.0, u'Scotland': 3.5, u'Tonopah': 3.75, u'Guadalupe': 4.0, u'Gilbert': 3.752396166134185, u'N E Las Vegas': 5.0, u'North Las Vegas ': 3.5, u'Mesa ': 3.0, u'Glendale Az': 4.0, u'Ratho': 3.0, u'Henderson (Green  Valley)': 4.0, u'Stoughton': 3.75, u'De Forest': 3.75, u'Queen Creek': 3.6456043956043955, u'Henderson and Las vegas': 4.0, u'McFarland': 4.4, u'Mesa': 3.5901461829994585, u'Waunakee': 3.3333333333333335, u'chandler': 5.0, u'Las Vegas ': 3.6, u'Scottsdale, Phoenix, Chandler, Gilbert': 5.0, u'W Spring Valley': 3.0, u'Mcfarland': 3.5, u'Enterprise': 3.2222222222222223, u'Saguaro Lake': 3.0, u'Straiton': 2.5, u'Cave Creek': 3.9122137404580153, u'N W Las Vegas': 3.5, u'Las Vegas, NV 89147': 2.5, u'Henderson (Stephanie)': 4.0, u'New York': 5.0, u'Waddell': 3.8333333333333335, u'Buckeye': 3.408450704225352, u'Newbridge': 4.5, u'Sunrise Manor': 3.0, u'Florence': 3.6176470588235294, u'Spring Valley': 3.5, u'Juniper Green': 3.8333333333333335, u'Coolidge': 3.4375, u'Roslin': 4.5, u'Sun City West': 3.625, u'Middleton': 3.611111111111111, u'Fort McDowell': 3.357142857142857, u'Fountain Hls': 3.0, u'Phoenix Sky Harbor Center': 3.5, u'Sun Prairie': 3.455223880597015, u'Stockbridge': 4.5, u'St. Jacobs': 4.5, u'Heidelberg': 2.5, u'New Town': 3.6666666666666665, u'Laveen': 3.3392857142857144, u'Nellis Afb': 3.25, u'Tempe': 3.644621295279912, u'Deforest': 5.0, u'Carefree': 3.888888888888889, u'Chandler': 3.667574931880109, u'Leith': 4.0, u'Dalkeith': 4.333333333333333, u'Tortilla Flat': 4.166666666666667, u'Pheonix': 3.0, u'New River': 3.5833333333333335, u'North Las Vegas': 3.4460043196544277, u'Summerlin': 4.0, u'Fountain Hills': 3.7904761904761903, u'N Las Vegas': 3.5625, u'Water of Leith': 4.5, u'Paradise Valley': 3.6690140845070425, u'South Queensferry': 3.9, u'Glendale': 3.607404021937843, u'Youngtown': 3.857142857142857, u'Nellis Air Force Base': 3.0, u'Stanfield': 3.5, u'Phoenix': 3.6702903946388683, u'Sun City': 3.55, u'Henderson ': 4.0, u'San Tan Valley': 3.870967741935484, u'Chandler-Gilbert': 5.0, u'Monona': 3.4727272727272727}\n"
     ]
    }
   ],
   "source": [
    "print avg_stars"
   ]
  },
  {
   "cell_type": "markdown",
   "metadata": {
    "deletable": true,
    "editable": true
   },
   "source": [
    "We can get that list of tuples from the `.items()` method."
   ]
  },
  {
   "cell_type": "markdown",
   "metadata": {
    "deletable": true,
    "editable": true
   },
   "source": [
    "## city_model\n",
    "Now, let's build a custom estimator that will make a prediction based solely on the city of a venue.  We create a custom class CityEstimator for this purpose."
   ]
  },
  {
   "cell_type": "code",
   "execution_count": 18,
   "metadata": {
    "collapsed": false,
    "deletable": true,
    "editable": true
   },
   "outputs": [],
   "source": [
    "from sklearn import base\n",
    "from collections import defaultdict\n",
    "class CityEstimator(base.BaseEstimator, base.RegressorMixin):\n",
    "    def __init__(self):\n",
    "\n",
    "        self.avg_stars = dict()\n",
    "        self.star_sum = defaultdict(int)\n",
    "        self.count = defaultdict(int)\n",
    "        \n",
    "    def fit(self, X, y):\n",
    "        # Store the average rating per city in self.avg_stars\n",
    "        self.data = X\n",
    "        self.star_ratings = y\n",
    "        for row, stars in zip(self.data, self.star_ratings):\n",
    "            self.star_sum[row['city']] = self.star_sum[row['city']]+ stars\n",
    "            self.count[row['city']] = self.count[row['city']] + 1  \n",
    "        for city in self.star_sum:\n",
    "            self.avg_stars[city] = float(self.star_sum[city])/float(self.count[city])\n",
    "        return self\n",
    "    def predict(self, X):\n",
    "        y = []\n",
    "        for row in X:\n",
    "            temp = self.avg_stars.get(row['city'])\n",
    "            if temp is not None:\n",
    "                y.append(temp)\n",
    "            else:\n",
    "                #when city does not exist  in the avg_stars dict I am appending with 2.5\n",
    "                y.append(2.5) \n",
    "        return y\n",
    " "
   ]
  },
  {
   "cell_type": "code",
   "execution_count": 19,
   "metadata": {
    "collapsed": false,
    "deletable": true,
    "editable": true
   },
   "outputs": [
    {
     "data": {
      "text/plain": [
       "CityEstimator()"
      ]
     },
     "execution_count": 19,
     "metadata": {},
     "output_type": "execute_result"
    }
   ],
   "source": [
    "city_est = CityEstimator()\n",
    "city_est.fit(data, star_ratings)"
   ]
  },
  {
   "cell_type": "markdown",
   "metadata": {
    "deletable": true,
    "editable": true
   },
   "source": [
    "And let's see if it works."
   ]
  },
  {
   "cell_type": "code",
   "execution_count": 20,
   "metadata": {
    "collapsed": false,
    "deletable": true,
    "editable": true
   },
   "outputs": [
    {
     "data": {
      "text/plain": [
       "[3.6702903946388683, 3.75, 3.75, 3.75, 3.75]"
      ]
     },
     "execution_count": 20,
     "metadata": {},
     "output_type": "execute_result"
    }
   ],
   "source": [
    "city_est.predict(data[:5])"
   ]
  },
  {
   "cell_type": "code",
   "execution_count": 21,
   "metadata": {
    "collapsed": false,
    "deletable": true,
    "editable": true
   },
   "outputs": [
    {
     "data": {
      "text/plain": [
       "[2.5]"
      ]
     },
     "execution_count": 21,
     "metadata": {},
     "output_type": "execute_result"
    }
   ],
   "source": [
    "city_est.predict([{'city': 'Timbuktu'}])"
   ]
  },
  {
   "cell_type": "markdown",
   "metadata": {
    "deletable": true,
    "editable": true
   },
   "source": [
    "## lat_long_model\n",
    "A city-based model might not be sufficiently fine-grained. For example, we know that some neighborhoods are trendier than others.  We can use the latitude and longitude of a venue as features that help us understand neighborhood dynamics. We make a custom class ColumnSelectTransformer for this purpose."
   ]
  },
  {
   "cell_type": "code",
   "execution_count": 22,
   "metadata": {
    "collapsed": false,
    "deletable": true,
    "editable": true
   },
   "outputs": [
    {
     "name": "stdout",
     "output_type": "stream",
     "text": [
      "0    33.499313\n",
      "1    43.238893\n",
      "2    43.252267\n",
      "3    43.251045\n",
      "4    43.240875\n",
      "Name: latitude, dtype: float64\n",
      "Index([u'attributes', u'business_id', u'categories', u'city', u'full_address',\n",
      "       u'hours', u'latitude', u'longitude', u'name', u'neighborhoods', u'open',\n",
      "       u'review_count', u'stars', u'state', u'type'],\n",
      "      dtype='object')\n"
     ]
    }
   ],
   "source": [
    "print df['latitude'].head(n=5)\n",
    "print df.columns"
   ]
  },
  {
   "cell_type": "code",
   "execution_count": 23,
   "metadata": {
    "collapsed": false,
    "deletable": true,
    "editable": true
   },
   "outputs": [],
   "source": [
    "class ColumnSelectTransformer(base.BaseEstimator, base.TransformerMixin):\n",
    "    \n",
    "    def __init__(self, col_names):\n",
    "        self.col_names = col_names  # We will need these in transform()\n",
    "    \n",
    "    def fit(self, X, y=None):\n",
    "        # This transformer doesn't need to learn anything about the data,\n",
    "        # so it can just return self without any further processing\n",
    "        return self\n",
    "    \n",
    "    def transform(self, X):\n",
    "        # Return an array with the same number of rows as X and onzjhjjjjhjnhe\n",
    "        # column for each in self.col_names\n",
    "        self.df = pd.DataFrame(X)  \n",
    "        #return self.df\n",
    "        selected_data = []\n",
    "        for row in X:\n",
    "            selected_data.append([row[col] for col in self.col_names])\n",
    "        return selected_data\n"
   ]
  },
  {
   "cell_type": "markdown",
   "metadata": {
    "deletable": true,
    "editable": true
   },
   "source": [
    "Let's test it on a single row, just as a sanity check:"
   ]
  },
  {
   "cell_type": "code",
   "execution_count": 24,
   "metadata": {
    "collapsed": false,
    "deletable": true,
    "editable": true
   },
   "outputs": [],
   "source": [
    "cst = ColumnSelectTransformer(['latitude', 'longitude'])\n",
    "assert (cst.fit_transform(data[:1])\n",
    "        == [[data[0]['latitude'], data[0]['longitude']]])"
   ]
  },
  {
   "cell_type": "markdown",
   "metadata": {
    "deletable": true,
    "editable": true
   },
   "source": [
    "Now, let's feed the output of the transformer in to a `sklearn.neighbors.KNeighborsRegressor`.  As a sanity check, we'll test it with the first 5 rows.  To truly judge the performance, we'd need to make a test/train split."
   ]
  },
  {
   "cell_type": "code",
   "execution_count": 25,
   "metadata": {
    "collapsed": false,
    "deletable": true,
    "editable": true
   },
   "outputs": [
    {
     "data": {
      "text/plain": [
       "array([ 4. ,  4.2,  4. ,  3.8,  4.2])"
      ]
     },
     "execution_count": 25,
     "metadata": {},
     "output_type": "execute_result"
    }
   ],
   "source": [
    "from sklearn.neighbors import KNeighborsRegressor\n",
    "\n",
    "data_transform = cst.fit_transform(data)\n",
    "knn = KNeighborsRegressor(n_neighbors=5)\n",
    "knn.fit(data_transform, star_ratings)\n",
    "test_data = data[:5]\n",
    "test_data_transform = cst.transform(test_data)\n",
    "knn.predict(test_data_transform)"
   ]
  },
  {
   "cell_type": "code",
   "execution_count": 26,
   "metadata": {
    "collapsed": false,
    "deletable": true,
    "editable": true
   },
   "outputs": [],
   "source": [
    "from sklearn.pipeline import Pipeline\n",
    "latlongTrans = ColumnSelectTransformer(['latitude','longitude'])\n",
    "geoEst = KNeighborsRegressor(n_neighbors=5)\n",
    "pipe = Pipeline([('geotran', latlongTrans),('est', geoEst)])"
   ]
  },
  {
   "cell_type": "markdown",
   "metadata": {
    "deletable": true,
    "editable": true
   },
   "source": [
    "This should work the same way."
   ]
  },
  {
   "cell_type": "code",
   "execution_count": 27,
   "metadata": {
    "collapsed": false,
    "deletable": true,
    "editable": true
   },
   "outputs": [
    {
     "data": {
      "text/plain": [
       "array([ 4. ,  4.2,  4. ,  3.8,  4.2])"
      ]
     },
     "execution_count": 27,
     "metadata": {},
     "output_type": "execute_result"
    }
   ],
   "source": [
    "pipe.fit(data, star_ratings)\n",
    "pipe.predict(test_data)"
   ]
  },
  {
   "cell_type": "code",
   "execution_count": 28,
   "metadata": {
    "collapsed": false,
    "deletable": true,
    "editable": true
   },
   "outputs": [
    {
     "name": "stderr",
     "output_type": "stream",
     "text": [
      "/opt/conda/lib/python2.7/site-packages/ipykernel_launcher.py:4: FutureWarning: pd.rolling_mean is deprecated for Series and will be removed in a future version, replace with \n",
      "\tSeries.rolling(window=1000,center=False).mean()\n",
      "  after removing the cwd from sys.path.\n"
     ]
    },
    {
     "data": {
      "text/plain": [
       "[<matplotlib.lines.Line2D at 0x7f29972e2290>]"
      ]
     },
     "execution_count": 28,
     "metadata": {},
     "output_type": "execute_result"
    },
    {
     "data": {
      "image/png": "[encoded data removed]",
      "text/plain": [
       "<matplotlib.figure.Figure at 0x7f299c748fd0>"
      ]
     },
     "metadata": {},
     "output_type": "display_data"
    }
   ],
   "source": [
    "from pandas import rolling_mean, Series\n",
    "import matplotlib.pyplot as plt\n",
    "\n",
    "plt.plot(rolling_mean(Series(star_ratings), 1000))"
   ]
  },
  {
   "cell_type": "code",
   "execution_count": 29,
   "metadata": {
    "collapsed": false,
    "deletable": true,
    "editable": true,
    "scrolled": true
   },
   "outputs": [
    {
     "name": "stderr",
     "output_type": "stream",
     "text": [
      "/opt/conda/lib/python2.7/site-packages/sklearn/cross_validation.py:41: DeprecationWarning: This module was deprecated in version 0.18 in favor of the model_selection module into which all the refactored classes and functions are moved. Also note that the interface of the new CV iterators are different from that of this module. This module will be removed in 0.20.\n",
      "  \"This module will be removed in 0.20.\", DeprecationWarning)\n"
     ]
    }
   ],
   "source": [
    "from sklearn.cross_validation import train_test_split\n",
    "xTrain, xTest, yTrain, yTest = train_test_split(data, star_ratings)"
   ]
  },
  {
   "cell_type": "code",
   "execution_count": 30,
   "metadata": {
    "collapsed": false,
    "deletable": true,
    "editable": true
   },
   "outputs": [],
   "source": [
    "from sklearn.ensemble import RandomForestRegressor\n",
    "latlongTrans = ColumnSelectTransformer(['latitude','longitude'])\n",
    "geoEst = RandomForestRegressor( max_depth=11, min_samples_leaf=64)\n",
    "geoModel = Pipeline([('geotran', latlongTrans),\n",
    "                        ('est', geoEst)\n",
    "                        ])"
   ]
  },
  {
   "cell_type": "code",
   "execution_count": 31,
   "metadata": {
    "collapsed": false,
    "deletable": true,
    "editable": true
   },
   "outputs": [
    {
     "data": {
      "text/plain": [
       "array([ 3.53566082,  3.86510118,  3.4241163 , ...,  3.61480435,\n",
       "        3.59210095,  3.78494352])"
      ]
     },
     "execution_count": 31,
     "metadata": {},
     "output_type": "execute_result"
    }
   ],
   "source": [
    "geoModel.fit(xTrain, yTrain)\n",
    "geoModel.predict(xTest)"
   ]
  },
  {
   "cell_type": "code",
   "execution_count": null,
   "metadata": {
    "collapsed": false,
    "deletable": true,
    "editable": true
   },
   "outputs": [],
   "source": [
    "#now lets look at the categories column for example\n",
    "cst1 = ColumnSelectTransformer(['categories'])\n",
    "print cst1.fit_transform(data[:20])"
   ]
  },
  {
   "cell_type": "markdown",
   "metadata": {
    "deletable": true,
    "editable": true
   },
   "source": [
    "## category_model\n",
    "While location is important, we could also try seeing how predictive the\n",
    "venue's category is.  Build an estimator that considers only the categories.\n",
    "\n",
    "The categories come as a list of strings, but the built-in estimators all need numeric input.  The standard way to deal with categorical features is **one-hot encoding**, also known as dummy variables.  In this approach, each category gets its own column in the feature matrix.  If the row has a given category, that column gets filled with a 1.  Otherwise, it is 0.\n",
    "\n",
    "The `ColumnSelectTransformer` from the previous model can be used to extract the categories column as a list of strings.  "
   ]
  },
  {
   "cell_type": "code",
   "execution_count": 32,
   "metadata": {
    "collapsed": false,
    "deletable": true,
    "editable": true,
    "scrolled": true
   },
   "outputs": [],
   "source": [
    "class DictEncoder(base.BaseEstimator, base.TransformerMixin):\n",
    "    \n",
    "    def fit(self, X, y=None):\n",
    "        return self\n",
    "    \n",
    "    def transform(self, X):\n",
    "        # X will come in as a list of lists of lists.  Return a list of\n",
    "        # dictionaries corresponding to those inner lists.\n",
    "        list_of_dicts = []\n",
    "        for sub in X:\n",
    "            for sub_sub in sub: \n",
    "                d = {}\n",
    "                for el in sub_sub:\n",
    "                    d[el] = 1\n",
    "                list_of_dicts.append(d)\n",
    "        return list_of_dicts\n",
    "        "
   ]
  },
  {
   "cell_type": "code",
   "execution_count": 33,
   "metadata": {
    "collapsed": true,
    "deletable": true,
    "editable": true
   },
   "outputs": [],
   "source": [
    "#sanity check\n",
    "assert (DictEncoder().fit_transform([[['a']], [['b', 'c']]])\n",
    "        == [{'a': 1}, {'b': 1, 'c': 1}])"
   ]
  },
  {
   "cell_type": "code",
   "execution_count": 34,
   "metadata": {
    "collapsed": false,
    "deletable": true,
    "editable": true
   },
   "outputs": [],
   "source": [
    "#Just to check the sequence of ColumnSelectTransformer and Dict Enooder on the data\n",
    "cst = ColumnSelectTransformer(['categories'])\n",
    "categ = cst.fit_transform(data)\n",
    "categ_dict = DictEncoder().fit_transform(categ)\n",
    "#categ_dict"
   ]
  },
  {
   "cell_type": "code",
   "execution_count": 35,
   "metadata": {
    "collapsed": false,
    "deletable": true,
    "editable": true,
    "scrolled": true
   },
   "outputs": [],
   "source": [
    "## import transformers, make instances of each class\n",
    "from sklearn.feature_extraction import DictVectorizer\n",
    "from sklearn import linear_model\n",
    "catcolTrans = ColumnSelectTransformer(['categories'])\n",
    "catTrans = DictEncoder()   # list of dicts, each element is dict of categories (features)\n",
    "vecTrans = DictVectorizer()   # nRows x nFeature sparse array, indicates 1 if feature present for this business\n",
    "\n",
    "\n"
   ]
  },
  {
   "cell_type": "code",
   "execution_count": 36,
   "metadata": {
    "collapsed": false,
    "deletable": true,
    "editable": true
   },
   "outputs": [],
   "source": [
    "categoryModel = Pipeline([(('colselect'), catcolTrans),\n",
    "                            ('cattran', catTrans),\n",
    "                            ('vectran', vecTrans),\n",
    "                            ('est', linear_model.Ridge( alpha = 3 )),\n",
    "                            ])"
   ]
  },
  {
   "cell_type": "code",
   "execution_count": 37,
   "metadata": {
    "collapsed": false,
    "deletable": true,
    "editable": true
   },
   "outputs": [
    {
     "name": "stdout",
     "output_type": "stream",
     "text": [
      "catModel= 0.191185633524\n"
     ]
    }
   ],
   "source": [
    "categoryModel.fit( xTrain, yTrain)\n",
    "print \"catModel=\", categoryModel.score( xTest, yTest ) "
   ]
  },
  {
   "cell_type": "markdown",
   "metadata": {
    "deletable": true,
    "editable": true
   },
   "source": [
    "## attribute_model\n",
    "There is even more information in the attributes for each venue.  Let's build an estimator based on these.\n",
    "\n",
    "Venues attributes may be nested:\n",
    "```\n",
    "{\n",
    "  'Attire': 'casual',\n",
    "  'Accepts Credit Cards': True,\n",
    "  'Ambiance': {'casual': False, 'classy': False}\n",
    "}\n",
    "```\n",
    "We wish to encode them with one-hot encoding.  The `DictVectorizer` can do this, but only once we've flattened the dictionary to a single level, like so:\n",
    "```\n",
    "{\n",
    "  'Attire_casual' : 1,\n",
    "  'Accepts Credit Cards': 1,\n",
    "  'Ambiance_casual': 0,\n",
    "  'Ambiance_classy': 0\n",
    "}\n",
    "```\n",
    "\n",
    "We can build a custom transformer that flattens the attributes dictionary and then place this in a pipeline with a `DictVectorizer` and a regressor.\n",
    "\n",
    "We also use a linear model to fit the linear part of some data, and a non-linear model to fit the residual that the linear model can't fit. "
   ]
  },
  {
   "cell_type": "code",
   "execution_count": 38,
   "metadata": {
    "collapsed": false,
    "deletable": true,
    "editable": true
   },
   "outputs": [],
   "source": [
    "class attrs_class3(base.BaseEstimator, base.TransformerMixin):\n",
    "#     def __init__(self, debug=False):\n",
    "#         self.debug = debug\n",
    "    \n",
    "    def fit(self, X, y=None):\n",
    "        return self\n",
    "    \n",
    "    def transform(self, M):\n",
    "        list_of_dicts = []\n",
    "        for sub in M:\n",
    "            for sub_sub in sub: \n",
    "                list_of_dicts.append(sub_sub)\n",
    "        result_list = []\n",
    "        for d in list_of_dicts:\n",
    "            result_list.append(self.flattenDict(d,{},''))\n",
    "        return result_list\n",
    "\n",
    "    def flattenDict(self, inDict, flatDict={}, preKey=''): \n",
    "#         if self.debug:\n",
    "#             print '*called flattenDict on ', inDict\n",
    "        if type(inDict) == type({}): \n",
    "            keys = inDict.keys() \n",
    "            for key in keys: \n",
    "                keyOut = preKey + ' '.join( key.strip().split() ) \n",
    "                tmp = inDict[key]\n",
    "#                 if self.debug:\n",
    "#                     print '*processing2 tmp=', tmp, 'with type=', type(tmp)\n",
    "                if type(tmp) == type({}):\n",
    "                    flatDict = self.flattenDict(tmp,flatDict,keyOut+'_')\n",
    "\n",
    "                # boolean values\n",
    "                elif isinstance(tmp, (bool)):\n",
    "                    if tmp:\n",
    "                        flatDict[keyOut] = 1\n",
    "                    else:\n",
    "                        flatDict[keyOut] = 0\n",
    "\n",
    "                # string values\n",
    "                elif isinstance(tmp, (str,unicode)):\n",
    "                    flatDict[keyOut + '_' + str(tmp) ] = 1\n",
    "\n",
    "                # numeric values\n",
    "                elif isinstance(tmp, (int, float)) :\n",
    "                    flatDict[keyOut + '_' + str(tmp) ] = 1\n",
    "\n",
    "\n",
    "                #warn on other values\n",
    "                else:\n",
    "                    print \"OTHER! tmp=\", tmp, 'type=', type(tmp)\n",
    "                    \n",
    "\n",
    "        elif type(inDict) == type('a'):\n",
    "            flatDict[ inDict ] = 1\n",
    "        else:\n",
    "            print \"WARNING2\"\n",
    "        return flatDict\n",
    "    \n",
    "\n",
    "#flattenDict(inDict)\n",
    "\n",
    "cst = ColumnSelectTransformer(['attributes'])\n",
    "attrs = cst.fit_transform(data)\n",
    "attr_flattened_obj = attrs_class3() \n",
    "attrs_flat = attr_flattened_obj.transform(attrs)\n",
    "#attrs_flat\n",
    "#attrs_flat = attr_flattened_obj.fit_transform(attrs)\n",
    "#print attrs_flat)\n",
    "#V = DictVectorizer().fit_transform(attrs_flat)"
   ]
  },
  {
   "cell_type": "code",
   "execution_count": 39,
   "metadata": {
    "collapsed": false,
    "deletable": true,
    "editable": true
   },
   "outputs": [
    {
     "name": "stderr",
     "output_type": "stream",
     "text": [
      "/opt/conda/lib/python2.7/site-packages/sklearn/grid_search.py:42: DeprecationWarning: This module was deprecated in version 0.18 in favor of the model_selection module into which all the refactored classes and functions are moved. This module will be removed in 0.20.\n",
      "  DeprecationWarning)\n"
     ]
    }
   ],
   "source": [
    "import numpy as np\n",
    "from sklearn.feature_extraction import DictVectorizer\n",
    "from sklearn import linear_model\n",
    "from sklearn.feature_extraction.text import TfidfTransformer\n",
    "from sklearn import ensemble\n",
    "from sklearn.cross_validation import train_test_split\n",
    "from sklearn.grid_search import GridSearchCV\n",
    "\n",
    "\n",
    "xTrain, xTest, yTrain, yTest = train_test_split(data, star_ratings)\n",
    "\n",
    "attrcolTrans = ColumnSelectTransformer(['attributes'])\n",
    "attrTrans = attrs_class3() # list of dicts, each element is dict of categories (features)\n",
    "vecTrans = DictVectorizer(sparse = True)# nRows x nFeature sparse array, indicates 1 if feature present for this business\n"
   ]
  },
  {
   "cell_type": "code",
   "execution_count": 40,
   "metadata": {
    "collapsed": false,
    "deletable": true,
    "editable": true
   },
   "outputs": [
    {
     "data": {
      "text/plain": [
       "0.081359041920282107"
      ]
     },
     "execution_count": 40,
     "metadata": {},
     "output_type": "execute_result"
    }
   ],
   "source": [
    "import numpy as np\n",
    "from sklearn.base import BaseEstimator, RegressorMixin, TransformerMixin\n",
    "from sklearn import neighbors\n",
    "from sklearn import ensemble\n",
    "from sklearn.pipeline import Pipeline, FeatureUnion\n",
    "\n",
    "class EnsembleTransformer(BaseEstimator, TransformerMixin):\n",
    "    \n",
    "    def __init__(self, base_estimator, residual_estimators):\n",
    "        self.base_estimator = base_estimator\n",
    "        self.residual_estimators = residual_estimators\n",
    "    \n",
    "    def fit(self, X, y):\n",
    "        self.base_estimator.fit(X, y)\n",
    "        y_err = y - self.base_estimator.predict(X)\n",
    "        for est in self.residual_estimators:\n",
    "            est.fit(X, y_err)\n",
    "        return self\n",
    "    \n",
    "    def transform(self, X):\n",
    "        all_ests = [self.base_estimator] + list(self.residual_estimators)\n",
    "        return np.array([est.predict(X) for est in all_ests]).T\n",
    "\n",
    "attrcolTrans = ColumnSelectTransformer(['attributes'])\n",
    "attrTrans = attrs_class3() # list of dicts, each element is dict of categories (features)\n",
    "vecTrans = DictVectorizer(sparse = True)# nRows x nFeature sparse array, indicates 1 if feature present for this business\n",
    "\n",
    "\n",
    "ensemble_pipe = Pipeline([\n",
    "        ('attrselect', attrcolTrans),\n",
    "        ('attrtran', attrTrans),\n",
    "        ('vectran', vecTrans),\n",
    "        ('ensemble', EnsembleTransformer(\n",
    "                linear_model.LinearRegression(),\n",
    "                (neighbors.KNeighborsRegressor(n_neighbors=10),\n",
    "                 ensemble.RandomForestRegressor(min_samples_leaf=20)))),\n",
    "        ('blend', linear_model.LinearRegression())\n",
    "])\n",
    "\n",
    "ensemble_pipe.fit(xTrain, yTrain)\n",
    "ensemble_pipe.score( xTest, yTest ) \n"
   ]
  },
  {
   "cell_type": "code",
   "execution_count": 41,
   "metadata": {
    "collapsed": false,
    "deletable": true,
    "editable": true
   },
   "outputs": [
    {
     "data": {
      "text/plain": [
       "array([ 1.30588185, -0.07202187,  0.63496556, ...,  1.33560891,\n",
       "       -0.43943566, -1.21950895])"
      ]
     },
     "execution_count": 41,
     "metadata": {},
     "output_type": "execute_result"
    }
   ],
   "source": [
    "ensemble_pipe.predict(xTest)-yTest"
   ]
  },
  {
   "cell_type": "code",
   "execution_count": 42,
   "metadata": {
    "collapsed": false,
    "deletable": true,
    "editable": true
   },
   "outputs": [
    {
     "data": {
      "text/plain": [
       "0.72292276798122135"
      ]
     },
     "execution_count": 42,
     "metadata": {},
     "output_type": "execute_result"
    }
   ],
   "source": [
    "from sklearn.metrics import mean_squared_error\n",
    "mean_squared_error(ensemble_pipe.predict(xTest), yTest)"
   ]
  },
  {
   "cell_type": "markdown",
   "metadata": {
    "deletable": true,
    "editable": true
   },
   "source": [
    "## full_model\n",
    "So far we have only built models based on individual features.  Now we will build an ensemble regressor that averages together the estimates of the four previous regressors."
   ]
  },
  {
   "cell_type": "code",
   "execution_count": 43,
   "metadata": {
    "collapsed": false,
    "deletable": true,
    "editable": true
   },
   "outputs": [],
   "source": [
    "class EstimatorTransformer(base.BaseEstimator, base.TransformerMixin):\n",
    "    \n",
    "    def __init__(self, estimator):\n",
    "        self.estimator = estimator\n",
    "    \n",
    "    def fit(self, X, y):\n",
    "        # Fit the stored estimator.\n",
    "        # Question: what should be returned?\n",
    "        self.estimator.fit(X,y)\n",
    "        return self\n",
    "    \n",
    "    def transform(self, X):\n",
    "        # Use predict on the stored estimator as a \"transformation\".\n",
    "        # Be sure to return a 2-D array.\n",
    "        pre = self.estimator.predict(X)\n",
    "        return [[a] for a in pre]"
   ]
  },
  {
   "cell_type": "code",
   "execution_count": 44,
   "metadata": {
    "collapsed": false,
    "deletable": true,
    "editable": true
   },
   "outputs": [],
   "source": [
    "city_trans = EstimatorTransformer(city_est)\n",
    "city_trans.fit(data, star_ratings)\n",
    "assert ([r[0] for r in city_trans.transform(data[:5])]\n",
    "        == city_est.predict(data[:5]))"
   ]
  },
  {
   "cell_type": "code",
   "execution_count": 45,
   "metadata": {
    "collapsed": true,
    "deletable": true,
    "editable": true
   },
   "outputs": [],
   "source": [
    "city_trans = EstimatorTransformer(city_est)\n",
    "latlong_trans = EstimatorTransformer(geoModel)\n",
    "categ_trans = EstimatorTransformer(categoryModel)\n",
    "attr_trans = EstimatorTransformer(ensemble_pipe)"
   ]
  },
  {
   "cell_type": "code",
   "execution_count": 46,
   "metadata": {
    "collapsed": false,
    "deletable": true,
    "editable": true
   },
   "outputs": [],
   "source": [
    "from sklearn.pipeline import FeatureUnion\n",
    "\n",
    "union = FeatureUnion([\n",
    "            ('city', city_trans),\n",
    "            ('latlong', latlong_trans ),\n",
    "            ('category', categ_trans ),\n",
    "            ('attribute', attr_trans ),\n",
    "    ])\n",
    "\n",
    "#EstimatorTransformer(CityEstimator()"
   ]
  },
  {
   "cell_type": "code",
   "execution_count": 49,
   "metadata": {
    "collapsed": false,
    "deletable": true,
    "editable": true
   },
   "outputs": [],
   "source": [
    "union.fit(data, star_ratings)\n",
    "trans_data = union.transform(data[:10])\n",
    "assert trans_data.shape == (10, 4)"
   ]
  },
  {
   "cell_type": "code",
   "execution_count": null,
   "metadata": {
    "collapsed": false,
    "deletable": true,
    "editable": true,
    "scrolled": true
   },
   "outputs": [],
   "source": [
    "full_est = Pipeline(\n",
    "    [('union', union ),\n",
    "     ('blend', linear_model.LinearRegression())\n",
    "    ]\n",
    ")"
   ]
  },
  {
   "cell_type": "code",
   "execution_count": null,
   "metadata": {
    "collapsed": false,
    "deletable": true,
    "editable": true
   },
   "outputs": [],
   "source": [
    "full_est.fit(data, star_ratings)\n",
    "full_est.predict(xTest)"
   ]
  },
  {
   "cell_type": "markdown",
   "metadata": {
    "deletable": true,
    "editable": true
   },
   "source": [
    "*Copyright &copy; 2016 The Data Incubator.  All rights reserved.*"
   ]
  }
 ],
 "metadata": {
  "kernelspec": {
   "display_name": "Python 2",
   "language": "python",
   "name": "python2"
  },
  "language_info": {
   "codemirror_mode": {
    "name": "ipython",
    "version": 2
   },
   "file_extension": ".py",
   "mimetype": "text/x-python",
   "name": "python",
   "nbconvert_exporter": "python",
   "pygments_lexer": "ipython2",
   "version": "2.7.13"
  }
 },
 "nbformat": 4,
 "nbformat_minor": 0
}
